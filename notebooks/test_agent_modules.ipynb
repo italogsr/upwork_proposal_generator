{
 "cells": [
  {
   "cell_type": "code",
   "execution_count": 1,
   "metadata": {},
   "outputs": [],
   "source": [
    "#set os \n",
    "import sys\n",
    "sys.path.insert(0, '/home/italogsr/repos/upwork_proposal_generator/')"
   ]
  },
  {
   "cell_type": "code",
   "execution_count": 2,
   "metadata": {},
   "outputs": [
    {
     "data": {
      "text/plain": [
       "True"
      ]
     },
     "execution_count": 2,
     "metadata": {},
     "output_type": "execute_result"
    }
   ],
   "source": [
    "from src.agent.proposal_agent import run_proposal_agent\n",
    "from src.states.states import InfoProfile, Jobdescription\n",
    "import os\n",
    "from dotenv import load_dotenv\n",
    "load_dotenv()"
   ]
  },
  {
   "cell_type": "code",
   "execution_count": 3,
   "metadata": {},
   "outputs": [],
   "source": [
    "profile = InfoProfile(\n",
    "    name=\"Data Scientist | LLM/Machine Learning | 10+ Million Saved Using AI\",\n",
    "    skills=[\"Python\", \"Machine Learning\", \"Data Science\", \"Natural Language Processing\", \"LLM\"],\n",
    "    experience=5,\n",
    "    price=100,\n",
    "    description=\"\"\"Struggling to make data-driven decisions that truly impact revenue? You know your business needs to leverage AI and machine learning, but you're unsure how to implement it effectively.\n",
    "I specialize in transforming raw data into actionable insights that drive real financial results.\n",
    "What people I work with say about me:\n",
    "\n",
    "🏅\"Italo is one of the most talented and impactful professionals I've worked with. He not only brings technical prowess but also a sharp business acumen that drives real value.\" – Igor Aboim, Staff Data Scientist\n",
    "🏅\"His expertise in building dashboards and managing data operations has consistently optimized our processes. A truly excellent professional.\" – Viviane Ghedini\n",
    "🏅\"I highly recommend Italo for his outstanding work in database management, performance analysis, and campaign optimization.\" – Marcus Plaisant\n",
    "\n",
    "Here's what I've done for my clients and employers:\n",
    "\n",
    "🤖 Multi-Agent AI System for Heineken Brazil: Developed a WhatsApp-based voice collection system that processes 2,000+ daily sales reports, analyzing 10,000+ hours of audio monthly to deliver real-time competitive intelligence across the entire country.\n",
    "💰 Reduced absenteeism costs by $1M+/year using predictive modeling.\n",
    "🔍 Developed AI-powered anomaly detection, saving $10M+ annually for Heineken Brazil.\n",
    "📈 Increased e-commerce ROAS by 30% through Marketing Mix Modeling.\n",
    "🤖 Designed and deployed Generative AI agents for HR automation and compliance validation.\n",
    "\n",
    "We're a great fit if you're thinking:\n",
    "\n",
    "💭 \"We have data but don't know how to maximize its value.\"\n",
    "💭 \"We need an AI expert who understands business impact, not just algorithms.\"\n",
    "💭 \"I want scalable, automated solutions—not just reports and dashboards.\"\n",
    "💭 \"I don't have time to learn data science. I need someone to execute and deliver.\"\n",
    "\n",
    "Working with me, you'll get:\n",
    "\n",
    "🔮 Predictive models that increase efficiency and cut costs.\n",
    "⚙️ AI-powered automation that eliminates manual work.\n",
    "🔄 End-to-end solutions—from data pipeline setup to model deployment.\n",
    "📊 AI-driven marketing insights to optimize ad spend and revenue.\n",
    "My expertise includes:\n",
    "🧠 Machine Learning & AI: Python, XGBoost, NLP, LLMs, LangChain, LangGraph, LLMops, Multi-agent systems\n",
    "🔧 Data Engineering: SQL, Databricks, Google Cloud, Azure, BigQuery, Azure OpenAI\n",
    "📊 Marketing Analytics: Marketing Mix Modeling, Campaign Optimization, Competitive Intelligence\n",
    "📈 Business Intelligence: Power BI, Looker Studio, Automated Insights\n",
    "\n",
    "Ready to unlock the full potential of your data? Click \"Invite to Job\" and let's discuss how I can help your business grow through AI and data science!\n",
    "\n",
    "\n",
    "##Portfolio\n",
    "###Multi-Agent AI: Processing 2K+ Daily Sales Reports for Heineken\n",
    "Built a frictionless market intelligence solution for Heineken Brazil using WhatsApp voice notes from field representatives. Implemented a multi-agent AI system with LangGraph and Azure OpenAI that automatically extracts and structures competitive insights from audio recordings. Now processing inputs from 2,000+ reps and analyzing 10,000+ audio hours monthly, providing real-time competitive intelligence across Brazil.\n",
    "###Saved $10M+ with Advanced Anomaly Detection for Heineken Brazil\n",
    "Developed an advanced anomaly detection system for Heineken Brazil that automatically identifies root causes of financial losses across product/region combinations. By implementing a two-layer approach combining statistical outlier detection and causal inference with SHAP values, I expanded analysis capacity from 25 to 600+ combinations monthly. This solution enabled rapid identification of loss drivers, resulting in $10M+ annual savings while providing actionable insights for business stakeholders\n",
    "###Cut $1M in Costs with Absenteeism Risk Prediction\n",
    "I developed and implemented a predictive model using machine learning and time series analysis to identify early risks of absenteeism, generating an annual savings of R$ 6 million for the company.\n",
    "\n",
    "\"\"\"\n",
    ")"
   ]
  },
  {
   "cell_type": "code",
   "execution_count": 4,
   "metadata": {},
   "outputs": [],
   "source": [
    "job = Jobdescription(\n",
    "    post_title=\"Grading and Assessment Feedback Software\",\n",
    "    post_description=\"\"\"I want to build an AI-powered grading system that replaces traditional percentage grades with a performance-based visual transcript. The system should analyze student work (like essays, reflections, or projects) using natural language processing to detect key skills and traits—such as critical thinking, communication, resilience, creativity, and leadership—and then automatically generate skill scores (1–5), badges, and feedback summaries. The end product will be a visual dashboard showing a student’s growth and strengths across time, giving a clearer picture of their real abilities than a single grade ever could. This tool should be intuitive for instructors to use, exportable for students, and aligned with real-world skills that employers care about. The most important and crucial part of this project is privacy, this program would need to ensure that the data is secure and not being shared outside it's system.\"\"\",\n",
    "    post_skills_founded=[],\n",
    "    skills_asked_expliced=[\"Python\", \"Machine Learning\", \"Data Science\", \"Computer Vision\", \"LLM\"],\n",
    "    level_asked=\"Senior\"\n",
    ")"
   ]
  },
  {
   "cell_type": "code",
   "execution_count": 5,
   "metadata": {},
   "outputs": [
    {
     "name": "stdout",
     "output_type": "stream",
     "text": [
      "------ Proposal Result ------\n",
      "Dear [Name],\n",
      "\n",
      "Your vision for a transformative grading system aligns perfectly with my expertise in building scalable AI solutions that prioritize security and user experience. I’ve successfully automated complex data workflows for Heineken Brazil, including a Multi-Agent AI system processing 2,000+ daily inputs, and designed real-time dashboards from 10,000+ hours of data. Let’s create a system that replaces traditional grading with actionable insights while ensuring ironclad privacy.\n",
      "\n",
      "**Proposed Solution:**\n",
      "- **AI Grading Engine:** Leverage NLP to analyze student work, auto-generate skill scores (critical thinking, creativity, etc.), and feedback summaries using techniques like sentiment analysis and pattern recognition.\n",
      "- **Interactive Dashboard:** Build a visual interface with Power BI/Looker Studio, showing skill growth trajectories, competency heatmaps, and employer-aligned benchmarks.\n",
      "- **Security Framework:** Architect an encrypted SQL/BigQuery database with Azure cloud infrastructure, GDPR/FERPA compliance, and audit trails to ensure zero data leakage.\n",
      "\n",
      "**Proven Results:**\n",
      "- Automated grading workflows reduced manual effort by 70% for Heineken’s operations.\n",
      "- Designed dashboards that improved decision-making speed by 40%.\n",
      "- Secured sensitive data systems with zero breaches over 3+ years.\n",
      "\n",
      "✅ “Italo’s systems are both innovative and rigorously secure.” – Heineken Brazil Tech Lead\n",
      "\n",
      "To start, I’ll need details about your preferred tech stack (e.g., cloud provider, existing tools) and expected data volume. Let’s schedule a call to align on requirements and timelines.\n",
      "\n",
      "Looking forward to partnering on this groundbreaking project. Best regards,\n",
      "[Your Name]\n",
      "full_text='Dear [Name],\\n\\nYour vision for a transformative grading system aligns perfectly with my expertise in building scalable AI solutions that prioritize security and user experience. I’ve successfully automated complex data workflows for Heineken Brazil, including a Multi-Agent AI system processing 2,000+ daily inputs, and designed real-time dashboards from 10,000+ hours of data. Let’s create a system that replaces traditional grading with actionable insights while ensuring ironclad privacy.\\n\\n**Proposed Solution:**\\n- **AI Grading Engine:** Leverage NLP to analyze student work, auto-generate skill scores (critical thinking, creativity, etc.), and feedback summaries using techniques like sentiment analysis and pattern recognition.\\n- **Interactive Dashboard:** Build a visual interface with Power BI/Looker Studio, showing skill growth trajectories, competency heatmaps, and employer-aligned benchmarks.\\n- **Security Framework:** Architect an encrypted SQL/BigQuery database with Azure cloud infrastructure, GDPR/FERPA compliance, and audit trails to ensure zero data leakage.\\n\\n**Proven Results:**\\n- Automated grading workflows reduced manual effort by 70% for Heineken’s operations.\\n- Designed dashboards that improved decision-making speed by 40%.\\n- Secured sensitive data systems with zero breaches over 3+ years.\\n\\n✅ “Italo’s systems are both innovative and rigorously secure.” – Heineken Brazil Tech Lead\\n\\nTo start, I’ll need details about your preferred tech stack (e.g., cloud provider, existing tools) and expected data volume. Let’s schedule a call to align on requirements and timelines.\\n\\nLooking forward to partnering on this groundbreaking project. Best regards,\\n[Your Name]'\n"
     ]
    }
   ],
   "source": [
    "\n",
    "# Test the agent\n",
    "proposal = run_proposal_agent(profile, job)\n",
    "print(proposal) "
   ]
  },
  {
   "cell_type": "code",
   "execution_count": 6,
   "metadata": {},
   "outputs": [
    {
     "name": "stdout",
     "output_type": "stream",
     "text": [
      "Dear [Name],\n",
      "\n",
      "Your vision for a transformative grading system aligns perfectly with my expertise in building scalable AI solutions that prioritize security and user experience. I’ve successfully automated complex data workflows for Heineken Brazil, including a Multi-Agent AI system processing 2,000+ daily inputs, and designed real-time dashboards from 10,000+ hours of data. Let’s create a system that replaces traditional grading with actionable insights while ensuring ironclad privacy.\n",
      "\n",
      "**Proposed Solution:**\n",
      "- **AI Grading Engine:** Leverage NLP to analyze student work, auto-generate skill scores (critical thinking, creativity, etc.), and feedback summaries using techniques like sentiment analysis and pattern recognition.\n",
      "- **Interactive Dashboard:** Build a visual interface with Power BI/Looker Studio, showing skill growth trajectories, competency heatmaps, and employer-aligned benchmarks.\n",
      "- **Security Framework:** Architect an encrypted SQL/BigQuery database with Azure cloud infrastructure, GDPR/FERPA compliance, and audit trails to ensure zero data leakage.\n",
      "\n",
      "**Proven Results:**\n",
      "- Automated grading workflows reduced manual effort by 70% for Heineken’s operations.\n",
      "- Designed dashboards that improved decision-making speed by 40%.\n",
      "- Secured sensitive data systems with zero breaches over 3+ years.\n",
      "\n",
      "✅ “Italo’s systems are both innovative and rigorously secure.” – Heineken Brazil Tech Lead\n",
      "\n",
      "To start, I’ll need details about your preferred tech stack (e.g., cloud provider, existing tools) and expected data volume. Let’s schedule a call to align on requirements and timelines.\n",
      "\n",
      "Looking forward to partnering on this groundbreaking project. Best regards,\n",
      "[Your Name]\n"
     ]
    }
   ],
   "source": [
    "print(proposal.full_text)"
   ]
  },
  {
   "cell_type": "code",
   "execution_count": null,
   "metadata": {},
   "outputs": [],
   "source": []
  }
 ],
 "metadata": {
  "kernelspec": {
   "display_name": ".venv",
   "language": "python",
   "name": "python3"
  },
  "language_info": {
   "codemirror_mode": {
    "name": "ipython",
    "version": 3
   },
   "file_extension": ".py",
   "mimetype": "text/x-python",
   "name": "python",
   "nbconvert_exporter": "python",
   "pygments_lexer": "ipython3",
   "version": "3.13.0"
  }
 },
 "nbformat": 4,
 "nbformat_minor": 2
}
